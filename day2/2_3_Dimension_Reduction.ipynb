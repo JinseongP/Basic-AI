{
  "cells": [
    {
      "cell_type": "markdown",
      "metadata": {
        "id": "view-in-github",
        "colab_type": "text"
      },
      "source": [
        "<a href=\"https://colab.research.google.com/github/JinseongP/Basic-AI/blob/main/day2/2_3_Dimension_Reduction.ipynb\" target=\"_parent\"><img src=\"https://colab.research.google.com/assets/colab-badge.svg\" alt=\"Open In Colab\"/></a>"
      ]
    },
    {
      "cell_type": "markdown",
      "metadata": {
        "id": "1IffFFfAf5Cg"
      },
      "source": [
        "# Python Machine Learning - Dimensionality Reduction"
      ]
    },
    {
      "cell_type": "markdown",
      "metadata": {
        "id": "lZlw85Yyf5Co"
      },
      "source": [
        "####    1. Import the wine data set"
      ]
    },
    {
      "cell_type": "code",
      "execution_count": 2,
      "metadata": {
        "colab": {
          "base_uri": "https://localhost:8080/",
          "height": 206
        },
        "id": "9Weocqrbf5Cp",
        "outputId": "da8ddb0f-3fe2-4687-bb27-5ef071da938d"
      },
      "outputs": [
        {
          "output_type": "execute_result",
          "data": {
            "text/plain": [
              "   Class label  Alcohol  Malic acid   Ash  Alcalinity of ash  Magnesium  \\\n",
              "0            1    14.23        1.71  2.43               15.6        127   \n",
              "1            1    13.20        1.78  2.14               11.2        100   \n",
              "2            1    13.16        2.36  2.67               18.6        101   \n",
              "3            1    14.37        1.95  2.50               16.8        113   \n",
              "4            1    13.24        2.59  2.87               21.0        118   \n",
              "\n",
              "   Total phenols  Flavanoids  Nonflavanoid phenols  Proanthocyanins  \\\n",
              "0           2.80        3.06                  0.28             2.29   \n",
              "1           2.65        2.76                  0.26             1.28   \n",
              "2           2.80        3.24                  0.30             2.81   \n",
              "3           3.85        3.49                  0.24             2.18   \n",
              "4           2.80        2.69                  0.39             1.82   \n",
              "\n",
              "   Color intensity   Hue  OD280/OD315 of diluted wines  Proline  \n",
              "0             5.64  1.04                          3.92     1065  \n",
              "1             4.38  1.05                          3.40     1050  \n",
              "2             5.68  1.03                          3.17     1185  \n",
              "3             7.80  0.86                          3.45     1480  \n",
              "4             4.32  1.04                          2.93      735  "
            ],
            "text/html": [
              "\n",
              "  <div id=\"df-85006df3-8a52-4296-b4e5-95865423cbc8\">\n",
              "    <div class=\"colab-df-container\">\n",
              "      <div>\n",
              "<style scoped>\n",
              "    .dataframe tbody tr th:only-of-type {\n",
              "        vertical-align: middle;\n",
              "    }\n",
              "\n",
              "    .dataframe tbody tr th {\n",
              "        vertical-align: top;\n",
              "    }\n",
              "\n",
              "    .dataframe thead th {\n",
              "        text-align: right;\n",
              "    }\n",
              "</style>\n",
              "<table border=\"1\" class=\"dataframe\">\n",
              "  <thead>\n",
              "    <tr style=\"text-align: right;\">\n",
              "      <th></th>\n",
              "      <th>Class label</th>\n",
              "      <th>Alcohol</th>\n",
              "      <th>Malic acid</th>\n",
              "      <th>Ash</th>\n",
              "      <th>Alcalinity of ash</th>\n",
              "      <th>Magnesium</th>\n",
              "      <th>Total phenols</th>\n",
              "      <th>Flavanoids</th>\n",
              "      <th>Nonflavanoid phenols</th>\n",
              "      <th>Proanthocyanins</th>\n",
              "      <th>Color intensity</th>\n",
              "      <th>Hue</th>\n",
              "      <th>OD280/OD315 of diluted wines</th>\n",
              "      <th>Proline</th>\n",
              "    </tr>\n",
              "  </thead>\n",
              "  <tbody>\n",
              "    <tr>\n",
              "      <th>0</th>\n",
              "      <td>1</td>\n",
              "      <td>14.23</td>\n",
              "      <td>1.71</td>\n",
              "      <td>2.43</td>\n",
              "      <td>15.6</td>\n",
              "      <td>127</td>\n",
              "      <td>2.80</td>\n",
              "      <td>3.06</td>\n",
              "      <td>0.28</td>\n",
              "      <td>2.29</td>\n",
              "      <td>5.64</td>\n",
              "      <td>1.04</td>\n",
              "      <td>3.92</td>\n",
              "      <td>1065</td>\n",
              "    </tr>\n",
              "    <tr>\n",
              "      <th>1</th>\n",
              "      <td>1</td>\n",
              "      <td>13.20</td>\n",
              "      <td>1.78</td>\n",
              "      <td>2.14</td>\n",
              "      <td>11.2</td>\n",
              "      <td>100</td>\n",
              "      <td>2.65</td>\n",
              "      <td>2.76</td>\n",
              "      <td>0.26</td>\n",
              "      <td>1.28</td>\n",
              "      <td>4.38</td>\n",
              "      <td>1.05</td>\n",
              "      <td>3.40</td>\n",
              "      <td>1050</td>\n",
              "    </tr>\n",
              "    <tr>\n",
              "      <th>2</th>\n",
              "      <td>1</td>\n",
              "      <td>13.16</td>\n",
              "      <td>2.36</td>\n",
              "      <td>2.67</td>\n",
              "      <td>18.6</td>\n",
              "      <td>101</td>\n",
              "      <td>2.80</td>\n",
              "      <td>3.24</td>\n",
              "      <td>0.30</td>\n",
              "      <td>2.81</td>\n",
              "      <td>5.68</td>\n",
              "      <td>1.03</td>\n",
              "      <td>3.17</td>\n",
              "      <td>1185</td>\n",
              "    </tr>\n",
              "    <tr>\n",
              "      <th>3</th>\n",
              "      <td>1</td>\n",
              "      <td>14.37</td>\n",
              "      <td>1.95</td>\n",
              "      <td>2.50</td>\n",
              "      <td>16.8</td>\n",
              "      <td>113</td>\n",
              "      <td>3.85</td>\n",
              "      <td>3.49</td>\n",
              "      <td>0.24</td>\n",
              "      <td>2.18</td>\n",
              "      <td>7.80</td>\n",
              "      <td>0.86</td>\n",
              "      <td>3.45</td>\n",
              "      <td>1480</td>\n",
              "    </tr>\n",
              "    <tr>\n",
              "      <th>4</th>\n",
              "      <td>1</td>\n",
              "      <td>13.24</td>\n",
              "      <td>2.59</td>\n",
              "      <td>2.87</td>\n",
              "      <td>21.0</td>\n",
              "      <td>118</td>\n",
              "      <td>2.80</td>\n",
              "      <td>2.69</td>\n",
              "      <td>0.39</td>\n",
              "      <td>1.82</td>\n",
              "      <td>4.32</td>\n",
              "      <td>1.04</td>\n",
              "      <td>2.93</td>\n",
              "      <td>735</td>\n",
              "    </tr>\n",
              "  </tbody>\n",
              "</table>\n",
              "</div>\n",
              "      <button class=\"colab-df-convert\" onclick=\"convertToInteractive('df-85006df3-8a52-4296-b4e5-95865423cbc8')\"\n",
              "              title=\"Convert this dataframe to an interactive table.\"\n",
              "              style=\"display:none;\">\n",
              "        \n",
              "  <svg xmlns=\"http://www.w3.org/2000/svg\" height=\"24px\"viewBox=\"0 0 24 24\"\n",
              "       width=\"24px\">\n",
              "    <path d=\"M0 0h24v24H0V0z\" fill=\"none\"/>\n",
              "    <path d=\"M18.56 5.44l.94 2.06.94-2.06 2.06-.94-2.06-.94-.94-2.06-.94 2.06-2.06.94zm-11 1L8.5 8.5l.94-2.06 2.06-.94-2.06-.94L8.5 2.5l-.94 2.06-2.06.94zm10 10l.94 2.06.94-2.06 2.06-.94-2.06-.94-.94-2.06-.94 2.06-2.06.94z\"/><path d=\"M17.41 7.96l-1.37-1.37c-.4-.4-.92-.59-1.43-.59-.52 0-1.04.2-1.43.59L10.3 9.45l-7.72 7.72c-.78.78-.78 2.05 0 2.83L4 21.41c.39.39.9.59 1.41.59.51 0 1.02-.2 1.41-.59l7.78-7.78 2.81-2.81c.8-.78.8-2.07 0-2.86zM5.41 20L4 18.59l7.72-7.72 1.47 1.35L5.41 20z\"/>\n",
              "  </svg>\n",
              "      </button>\n",
              "      \n",
              "  <style>\n",
              "    .colab-df-container {\n",
              "      display:flex;\n",
              "      flex-wrap:wrap;\n",
              "      gap: 12px;\n",
              "    }\n",
              "\n",
              "    .colab-df-convert {\n",
              "      background-color: #E8F0FE;\n",
              "      border: none;\n",
              "      border-radius: 50%;\n",
              "      cursor: pointer;\n",
              "      display: none;\n",
              "      fill: #1967D2;\n",
              "      height: 32px;\n",
              "      padding: 0 0 0 0;\n",
              "      width: 32px;\n",
              "    }\n",
              "\n",
              "    .colab-df-convert:hover {\n",
              "      background-color: #E2EBFA;\n",
              "      box-shadow: 0px 1px 2px rgba(60, 64, 67, 0.3), 0px 1px 3px 1px rgba(60, 64, 67, 0.15);\n",
              "      fill: #174EA6;\n",
              "    }\n",
              "\n",
              "    [theme=dark] .colab-df-convert {\n",
              "      background-color: #3B4455;\n",
              "      fill: #D2E3FC;\n",
              "    }\n",
              "\n",
              "    [theme=dark] .colab-df-convert:hover {\n",
              "      background-color: #434B5C;\n",
              "      box-shadow: 0px 1px 3px 1px rgba(0, 0, 0, 0.15);\n",
              "      filter: drop-shadow(0px 1px 2px rgba(0, 0, 0, 0.3));\n",
              "      fill: #FFFFFF;\n",
              "    }\n",
              "  </style>\n",
              "\n",
              "      <script>\n",
              "        const buttonEl =\n",
              "          document.querySelector('#df-85006df3-8a52-4296-b4e5-95865423cbc8 button.colab-df-convert');\n",
              "        buttonEl.style.display =\n",
              "          google.colab.kernel.accessAllowed ? 'block' : 'none';\n",
              "\n",
              "        async function convertToInteractive(key) {\n",
              "          const element = document.querySelector('#df-85006df3-8a52-4296-b4e5-95865423cbc8');\n",
              "          const dataTable =\n",
              "            await google.colab.kernel.invokeFunction('convertToInteractive',\n",
              "                                                     [key], {});\n",
              "          if (!dataTable) return;\n",
              "\n",
              "          const docLinkHtml = 'Like what you see? Visit the ' +\n",
              "            '<a target=\"_blank\" href=https://colab.research.google.com/notebooks/data_table.ipynb>data table notebook</a>'\n",
              "            + ' to learn more about interactive tables.';\n",
              "          element.innerHTML = '';\n",
              "          dataTable['output_type'] = 'display_data';\n",
              "          await google.colab.output.renderOutput(dataTable, element);\n",
              "          const docLink = document.createElement('div');\n",
              "          docLink.innerHTML = docLinkHtml;\n",
              "          element.appendChild(docLink);\n",
              "        }\n",
              "      </script>\n",
              "    </div>\n",
              "  </div>\n",
              "  "
            ]
          },
          "metadata": {},
          "execution_count": 2
        }
      ],
      "source": [
        "import pandas as pd\n",
        "\n",
        "df_wine = pd.read_csv('https://raw.githubusercontent.com/SLCFLAB/Data-Science-Python/main/Day%208/data/wine.data', header=None) #각자 알맞은 wine.data 파일 경로 입력\n",
        "\n",
        "df_wine.columns = ['Class label', 'Alcohol', 'Malic acid', 'Ash',\n",
        "                   'Alcalinity of ash', 'Magnesium', 'Total phenols',\n",
        "                   'Flavanoids', 'Nonflavanoid phenols', 'Proanthocyanins',\n",
        "                   'Color intensity', 'Hue',\n",
        "                   'OD280/OD315 of diluted wines', 'Proline']\n",
        "\n",
        "df_wine.head()"
      ]
    },
    {
      "cell_type": "code",
      "source": [
        "df_wine['Class label'].value_counts()"
      ],
      "metadata": {
        "colab": {
          "base_uri": "https://localhost:8080/"
        },
        "id": "xdwa80FD7dNY",
        "outputId": "7b6209b2-dd2b-483a-8824-920c228b1549"
      },
      "execution_count": 3,
      "outputs": [
        {
          "output_type": "execute_result",
          "data": {
            "text/plain": [
              "2    71\n",
              "1    59\n",
              "3    48\n",
              "Name: Class label, dtype: int64"
            ]
          },
          "metadata": {},
          "execution_count": 3
        }
      ]
    },
    {
      "cell_type": "markdown",
      "metadata": {
        "id": "VMLKcTw1f5Cr"
      },
      "source": [
        "####    2. Split the data into 70% training and 30% test subsets"
      ]
    },
    {
      "cell_type": "code",
      "execution_count": 4,
      "metadata": {
        "id": "HAzkcMYBf5Cr"
      },
      "outputs": [],
      "source": [
        "from sklearn.model_selection import train_test_split\n",
        "\n",
        "X, y = df_wine.iloc[:, 1:].values, df_wine.iloc[:, 0].values\n",
        "\n",
        "X_train, X_test, y_train, y_test = \\\n",
        "    train_test_split(X, y, test_size=0.3, \n",
        "                     stratify=y,\n",
        "                     random_state=0) #7:3으로 분할"
      ]
    },
    {
      "cell_type": "markdown",
      "metadata": {
        "id": "bLFy2GZxf5Ct"
      },
      "source": [
        "####    3. Standardize the data"
      ]
    },
    {
      "cell_type": "code",
      "execution_count": 5,
      "metadata": {
        "id": "hnOBoQblf5Cu"
      },
      "outputs": [],
      "source": [
        "from sklearn.preprocessing import StandardScaler\n",
        "\n",
        "sc = StandardScaler()\n",
        "X_train_std = sc.fit_transform(X_train)\n",
        "X_test_std = sc.transform(X_test) #training set의 parameter를 사용하여 test set의 데이터도 변환."
      ]
    },
    {
      "cell_type": "markdown",
      "metadata": {
        "id": "9oYMhwMxf5Cw"
      },
      "source": [
        "####    4. Calculate the covariance matrix and eigenvalues"
      ]
    },
    {
      "cell_type": "code",
      "execution_count": 6,
      "metadata": {
        "colab": {
          "base_uri": "https://localhost:8080/"
        },
        "id": "kg8Y9-25f5Cw",
        "outputId": "60b1e858-9aad-4d4c-99ac-63afc2cae193"
      },
      "outputs": [
        {
          "output_type": "stream",
          "name": "stdout",
          "text": [
            "\n",
            "Eigenvalues \n",
            "[4.84274532 2.41602459 1.54845825 0.96120438 0.84166161 0.6620634\n",
            " 0.51828472 0.34650377 0.3131368  0.10754642 0.21357215 0.15362835\n",
            " 0.1808613 ]\n",
            "(13, 13)\n"
          ]
        }
      ],
      "source": [
        "import numpy as np\n",
        "cov_mat = np.cov(X_train_std.T) #공분산 행렬 계산\n",
        "eigen_vals, eigen_vecs = np.linalg.eig(cov_mat)\n",
        "print('\\nEigenvalues \\n%s' % eigen_vals)\n",
        "print(eigen_vecs.shape)"
      ]
    },
    {
      "cell_type": "markdown",
      "metadata": {
        "id": "m9Na6Rp6f5Cy"
      },
      "source": [
        "####   5. Calculate and plot the explained variance"
      ]
    },
    {
      "cell_type": "code",
      "execution_count": 7,
      "metadata": {
        "colab": {
          "base_uri": "https://localhost:8080/",
          "height": 297
        },
        "id": "9672tAGef5Cy",
        "outputId": "b49d2d89-e4fa-497e-9e45-ff30c0da39a5"
      },
      "outputs": [
        {
          "output_type": "display_data",
          "data": {
            "text/plain": [
              "<Figure size 432x288 with 1 Axes>"
            ],
            "image/png": "[encoded data removed]"
          },
          "metadata": {
            "needs_background": "light"
          }
        }
      ],
      "source": [
        "tot = sum(eigen_vals)\n",
        "var_exp = [(i / tot) for i in sorted(eigen_vals, reverse=True)] #크기 순으로 정렬 \n",
        "cum_var_exp = np.cumsum(var_exp) #누적 합산\n",
        "\n",
        "import matplotlib.pyplot as plt\n",
        "\n",
        "plt.bar(range(1, 14), var_exp, alpha=0.5, align='center',\n",
        "        label='individual explained variance')\n",
        "plt.step(range(1, 14), cum_var_exp, where='mid',\n",
        "         label='cumulative explained variance')\n",
        "plt.ylabel('Explained variance ratio')\n",
        "plt.xlabel('Principal component index')\n",
        "plt.legend(loc='best')\n",
        "plt.tight_layout()\n",
        "plt.show()"
      ]
    },
    {
      "cell_type": "markdown",
      "metadata": {
        "id": "HbLZFzt5f5C0"
      },
      "source": [
        "####    6. Feature transformation"
      ]
    },
    {
      "cell_type": "code",
      "execution_count": 8,
      "metadata": {
        "colab": {
          "base_uri": "https://localhost:8080/"
        },
        "id": "1ylL8PUqf5C1",
        "outputId": "15a35b4a-be47-4160-d8ea-eb16ca6a948d"
      },
      "outputs": [
        {
          "output_type": "stream",
          "name": "stdout",
          "text": [
            "(4.8427453156558915, array([-0.13724218,  0.24724326, -0.02545159,  0.20694508, -0.15436582,\n",
            "       -0.39376952, -0.41735106,  0.30572896, -0.30668347,  0.07554066,\n",
            "       -0.32613263, -0.36861022, -0.29669651]))\n",
            "Matrix W:\n",
            " [[-0.13724218  0.50303478]\n",
            " [ 0.24724326  0.16487119]\n",
            " [-0.02545159  0.24456476]\n",
            " [ 0.20694508 -0.11352904]\n",
            " [-0.15436582  0.28974518]\n",
            " [-0.39376952  0.05080104]\n",
            " [-0.41735106 -0.02287338]\n",
            " [ 0.30572896  0.09048885]\n",
            " [-0.30668347  0.00835233]\n",
            " [ 0.07554066  0.54977581]\n",
            " [-0.32613263 -0.20716433]\n",
            " [-0.36861022 -0.24902536]\n",
            " [-0.29669651  0.38022942]]\n"
          ]
        }
      ],
      "source": [
        "# Make a list of (eigenvalue, eigenvector) tuples\n",
        "eigen_pairs = [(np.abs(eigen_vals[i]), eigen_vecs[:, i])\n",
        "               for i in range(len(eigen_vals))]\n",
        "\n",
        "# Sort the (eigenvalue, eigenvector) tuples from high to low\n",
        "eigen_pairs.sort(key=lambda k: k[0], reverse=True)\n",
        "print(eigen_pairs[0])\n",
        "w = np.hstack((eigen_pairs[0][1][:, np.newaxis],\n",
        "               eigen_pairs[1][1][:, np.newaxis]))\n",
        "print('Matrix W:\\n', w)"
      ]
    },
    {
      "cell_type": "markdown",
      "metadata": {
        "id": "HniYzZ1ef5C2"
      },
      "source": [
        "####    6-1 plot the new matrix X'"
      ]
    },
    {
      "cell_type": "code",
      "execution_count": 9,
      "metadata": {
        "colab": {
          "base_uri": "https://localhost:8080/",
          "height": 297
        },
        "id": "uQcbVBlTf5C3",
        "outputId": "c170bf03-7bc9-4797-e3ea-6049f9cd6a89",
        "scrolled": true
      },
      "outputs": [
        {
          "output_type": "display_data",
          "data": {
            "text/plain": [
              "<Figure size 432x288 with 1 Axes>"
            ],
            "image/png": "[encoded data removed]"
          },
          "metadata": {
            "needs_background": "light"
          }
        }
      ],
      "source": [
        "X_train_pca = X_train_std.dot(w)\n",
        "colors = ['r', 'b', 'g']\n",
        "markers = ['s', 'x', 'o']\n",
        "\n",
        "for l, c, m in zip(np.unique(y_train), colors, markers):\n",
        "    plt.scatter(X_train_pca[y_train == l, 0], \n",
        "                X_train_pca[y_train == l, 1], \n",
        "                c=c, label=l, marker=m)\n",
        "\n",
        "plt.xlabel('PC 1')\n",
        "plt.ylabel('PC 2')\n",
        "plt.legend(loc='lower left')\n",
        "plt.tight_layout()\n",
        "plt.show()"
      ]
    },
    {
      "cell_type": "markdown",
      "metadata": {
        "id": "FQyl7um_f5C5"
      },
      "source": [
        "### Principal component analysis in scikit-learn"
      ]
    },
    {
      "cell_type": "code",
      "execution_count": 10,
      "metadata": {
        "colab": {
          "base_uri": "https://localhost:8080/"
        },
        "id": "i_tVT1xxf5C5",
        "outputId": "60858f31-6f03-49f1-b42b-df91444c2281"
      },
      "outputs": [
        {
          "output_type": "execute_result",
          "data": {
            "text/plain": [
              "array([0.36951469, 0.18434927, 0.11815159, 0.07334252, 0.06422108,\n",
              "       0.05051724, 0.03954654, 0.02643918, 0.02389319, 0.01629614,\n",
              "       0.01380021, 0.01172226, 0.00820609])"
            ]
          },
          "metadata": {},
          "execution_count": 10
        }
      ],
      "source": [
        "from sklearn.decomposition import PCA\n",
        "pca=PCA()\n",
        "X_train_pca = pca.fit_transform(X_train_std)\n",
        " #정규화된 데이터를 사용\n",
        "pca.explained_variance_ratio_"
      ]
    },
    {
      "cell_type": "code",
      "execution_count": 11,
      "metadata": {
        "colab": {
          "base_uri": "https://localhost:8080/",
          "height": 279
        },
        "id": "zIETa3Lsf5C7",
        "outputId": "d548bc91-2ab2-422e-9392-8739891ec959"
      },
      "outputs": [
        {
          "output_type": "display_data",
          "data": {
            "text/plain": [
              "<Figure size 432x288 with 1 Axes>"
            ],
            "image/png": "[encoded data removed]"
          },
          "metadata": {
            "needs_background": "light"
          }
        }
      ],
      "source": [
        "plt.bar(range(1, 14), pca.explained_variance_ratio_, alpha=0.5, align='center')\n",
        "plt.step(range(1, 14), np.cumsum(pca.explained_variance_ratio_), where='mid')\n",
        "plt.ylabel('Explained variance ratio')\n",
        "plt.xlabel('Principal components')\n",
        "plt.show()"
      ]
    },
    {
      "cell_type": "code",
      "execution_count": 12,
      "metadata": {
        "id": "refnbPD2f5C8"
      },
      "outputs": [],
      "source": [
        "pca = PCA(n_components=2)\n",
        "X_train_pca = pca.fit_transform(X_train_std)\n",
        "X_test_pca = pca.transform(X_test_std)"
      ]
    },
    {
      "cell_type": "code",
      "execution_count": 13,
      "metadata": {
        "colab": {
          "base_uri": "https://localhost:8080/",
          "height": 279
        },
        "id": "DudCpE03f5C_",
        "outputId": "34db542f-8106-4a8b-d00f-356009f66972"
      },
      "outputs": [
        {
          "output_type": "display_data",
          "data": {
            "text/plain": [
              "<Figure size 432x288 with 1 Axes>"
            ],
            "image/png": "[encoded data removed]"
          },
          "metadata": {
            "needs_background": "light"
          }
        }
      ],
      "source": [
        "plt.scatter(X_train_pca[:, 0], X_train_pca[:, 1])\n",
        "plt.xlabel('PC 1')\n",
        "plt.ylabel('PC 2')\n",
        "plt.show()"
      ]
    },
    {
      "cell_type": "code",
      "source": [
        ""
      ],
      "metadata": {
        "id": "WQwpnzX7bvJz"
      },
      "execution_count": 13,
      "outputs": []
    },
    {
      "cell_type": "markdown",
      "source": [
        "# Excercise: 이미지 데이터를 가지고 PCA해보기\n",
        "\n",
        "ref:https://www.kaggle.com/code/residentmario/dimensionality-reduction-and-pca-for-fashion-mnist/notebook\n"
      ],
      "metadata": {
        "id": "0L1Ee2uSl01q"
      }
    },
    {
      "cell_type": "code",
      "source": [
        "from sklearn.datasets import load_digits\n",
        "digits = load_digits()\n",
        "# plot the digits: each image is 8x8 pixels\n",
        "fig = plt.figure(figsize=(8, 6))\n",
        "for i in range(64):\n",
        "    ax = fig.add_subplot(8, 8, i + 1, xticks=[], yticks=[])\n",
        "    ax.imshow(digits.images[i], cmap=plt.cm.binary, interpolation='nearest')"
      ],
      "metadata": {
        "colab": {
          "base_uri": "https://localhost:8080/",
          "height": 361
        },
        "id": "KHFqtz1_cRDX",
        "outputId": "bc972b52-f942-47fa-f36d-d37f6efbd480"
      },
      "execution_count": 19,
      "outputs": [
        {
          "output_type": "display_data",
          "data": {
            "text/plain": [
              "<Figure size 576x432 with 64 Axes>"
            ],
            "image/png": "[encoded data removed]"
          },
          "metadata": {}
        }
      ]
    },
    {
      "cell_type": "code",
      "source": [
        "print(digits.data)\n",
        "print(digits.data.shape)\n",
        "# 데이터의 개수는 1797개, 각 데이터는 64차원 (고차원 데이터)"
      ],
      "metadata": {
        "colab": {
          "base_uri": "https://localhost:8080/"
        },
        "id": "lS0LWyk5fM6c",
        "outputId": "c995f593-091e-4235-f15a-7fbe1d1e4519"
      },
      "execution_count": 20,
      "outputs": [
        {
          "output_type": "stream",
          "name": "stdout",
          "text": [
            "[[ 0.  0.  5. ...  0.  0.  0.]\n",
            " [ 0.  0.  0. ... 10.  0.  0.]\n",
            " [ 0.  0.  0. ... 16.  9.  0.]\n",
            " ...\n",
            " [ 0.  0.  1. ...  6.  0.  0.]\n",
            " [ 0.  0.  2. ... 12.  0.  0.]\n",
            " [ 0.  0. 10. ... 12.  1.  0.]]\n",
            "(1797, 64)\n"
          ]
        }
      ]
    },
    {
      "cell_type": "code",
      "source": [
        "X.shape"
      ],
      "metadata": {
        "colab": {
          "base_uri": "https://localhost:8080/"
        },
        "id": "eRIT_wwulNYA",
        "outputId": "1adfe801-48fe-4b23-9c70-408c57e864cf"
      },
      "execution_count": 22,
      "outputs": [
        {
          "output_type": "execute_result",
          "data": {
            "text/plain": [
              "(1797, 8, 8)"
            ]
          },
          "metadata": {},
          "execution_count": 22
        }
      ]
    },
    {
      "cell_type": "code",
      "source": [
        "# To-do\n",
        "# 64차원의 숫자 데이터를 PCA로 차원 축소하여 n_components 2개에 대해 그려보고\n",
        "# explained_variance_ratio_ 까지 확인 \n",
        "\n",
        "import pandas as pd\n",
        "X = ??\n",
        "y = ??\n",
        "\n",
        "from sklearn.decomposition import PCA\n",
        "\n",
        "pca = ??\n",
        "X_r = ??"
      ],
      "metadata": {
        "id": "VaGGx59UdW69"
      },
      "execution_count": 23,
      "outputs": []
    },
    {
      "cell_type": "code",
      "source": [
        "sns.heatmap(digits['images'][0], cmap='gray_r')"
      ],
      "metadata": {
        "colab": {
          "base_uri": "https://localhost:8080/",
          "height": 300
        },
        "id": "VvMTTdXwlhBt",
        "outputId": "1bb0cb74-d371-49e6-d3aa-c505f2a6c75f"
      },
      "execution_count": 25,
      "outputs": [
        {
          "output_type": "execute_result",
          "data": {
            "text/plain": [
              "<matplotlib.axes._subplots.AxesSubplot at 0x7f3eade8db10>"
            ]
          },
          "metadata": {},
          "execution_count": 25
        },
        {
          "output_type": "display_data",
          "data": {
            "text/plain": [
              "<Figure size 432x288 with 2 Axes>"
            ],
            "image/png": "[encoded data removed]"
          },
          "metadata": {}
        }
      ]
    },
    {
      "cell_type": "code",
      "source": [
        "import seaborn as sns\n",
        "import matplotlib.pyplot as plt\n",
        "plt.style.use('fivethirtyeight')\n",
        "\n",
        "fig, axarr = plt.subplots(1, 2, figsize=(12, 4))\n",
        "\n",
        "sns.heatmap(pca.components_[0, :].reshape(8, 8), ax=axarr[0], cmap='gray_r')\n",
        "sns.heatmap(pca.components_[1, :].reshape(8, 8), ax=axarr[1], cmap='gray_r')\n",
        "axarr[0].set_title(\n",
        "    \"{0:.2f}% Explained Variance\".format(pca.explained_variance_ratio_[0]*100),\n",
        "    fontsize=12\n",
        ")\n",
        "axarr[1].set_title(\n",
        "    \"{0:.2f}% Explained Variance\".format(pca.explained_variance_ratio_[1]*100),\n",
        "    fontsize=12\n",
        ")\n",
        "axarr[0].set_aspect('equal')\n",
        "axarr[1].set_aspect('equal')\n",
        "\n",
        "plt.suptitle('2-Component PCA')"
      ],
      "metadata": {
        "id": "iyHnAEvyfR1Z",
        "colab": {
          "base_uri": "https://localhost:8080/",
          "height": 328
        },
        "outputId": "2324b455-ffc2-44e6-ea5c-5edec15be596"
      },
      "execution_count": 24,
      "outputs": [
        {
          "output_type": "execute_result",
          "data": {
            "text/plain": [
              "Text(0.5, 0.98, '2-Component PCA')"
            ]
          },
          "metadata": {},
          "execution_count": 24
        },
        {
          "output_type": "display_data",
          "data": {
            "text/plain": [
              "<Figure size 864x288 with 4 Axes>"
            ],
            "image/png": "[encoded data removed]"
          },
          "metadata": {}
        }
      ]
    },
    {
      "cell_type": "code",
      "source": [
        ""
      ],
      "metadata": {
        "id": "xkMRYPVrlZ0y"
      },
      "execution_count": null,
      "outputs": []
    }
  ],
  "metadata": {
    "anaconda-cloud": {},
    "celltoolbar": "Raw Cell Format",
    "colab": {
      "collapsed_sections": [],
      "name": "2_3_Dimension Reduction.ipynb",
      "provenance": [],
      "include_colab_link": true
    },
    "kernelspec": {
      "display_name": "Python 3",
      "language": "python",
      "name": "python3"
    },
    "language_info": {
      "codemirror_mode": {
        "name": "ipython",
        "version": 3
      },
      "file_extension": ".py",
      "mimetype": "text/x-python",
      "name": "python",
      "nbconvert_exporter": "python",
      "pygments_lexer": "ipython3",
      "version": "3.7.3"
    }
  },
  "nbformat": 4,
  "nbformat_minor": 0
}
