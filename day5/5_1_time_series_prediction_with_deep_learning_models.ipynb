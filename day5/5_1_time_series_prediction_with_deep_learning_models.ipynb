{
  "cells": [
    {
      "cell_type": "markdown",
      "metadata": {
        "colab_type": "text",
        "id": "view-in-github"
      },
      "source": [
        "<a href=\"https://colab.research.google.com/github/JinseongP/Basic-AI/blob/main/day5/5_1_time_series_prediction_with_deep_learning_models.ipynb\" target=\"_parent\"><img src=\"https://colab.research.google.com/assets/colab-badge.svg\" alt=\"Open In Colab\"/></a>"
      ]
    },
    {
      "cell_type": "markdown",
      "metadata": {
        "id": "T3FilAvsf9sd"
      },
      "source": [
        "ref: https://github.com/SLCFLAB/Data-Science-Python"
      ]
    },
    {
      "cell_type": "markdown",
      "metadata": {
        "id": "FgOSq9y3YKV0"
      },
      "source": [
        "# Time Series Prediction with Deep Learning Models\n",
        "\n",
        "You will now practice using deep learning models(RNN, LSTM, 1D CNN) to predict future values using past values. For your assignment, please change parameters, model structures and apply new model to shampoo data.\n",
        "\n",
        "Reference:\n",
        "* https://github.com/hee9joon/Univariate-Time-Series-Prediction-using-Deep-Learning.   \n",
        "*  https://colab.research.google.com/github/dlmacedo/starter-academic/blob/master/content/courses/deeplearning/notebooks/pytorch/Time_Series_Prediction_with_LSTM_Using_PyTorch.ipynb"
      ]
    },
    {
      "cell_type": "markdown",
      "metadata": {
        "id": "6FIi8t8NUTEJ"
      },
      "source": [
        "# Time Series Prediction with LSTM Using PyTorch\n",
        "\n",
        "This kernel is based on *datasets* from\n",
        "\n",
        "[Time Series Forecasting with the Long Short-Term Memory Network in Python](https://machinelearningmastery.com/time-series-forecasting-long-short-term-memory-network-python/)\n",
        "\n",
        "[Time Series Prediction with LSTM Recurrent Neural Networks in Python with Keras](https://machinelearningmastery.com/time-series-prediction-lstm-recurrent-neural-networks-python-keras/)\n"
      ]
    },
    {
      "cell_type": "markdown",
      "metadata": {
        "id": "S9DqRvEBU4aL"
      },
      "source": [
        "## Download Dataset"
      ]
    },
    {
      "cell_type": "code",
      "execution_count": null,
      "metadata": {
        "colab": {
          "base_uri": "https://localhost:8080/"
        },
        "id": "BKMrjozgU3I_",
        "outputId": "34ecc14c-51e3-4358-e8b3-46996b7a76c6",
        "vscode": {
          "languageId": "python"
        }
      },
      "outputs": [
        {
          "name": "stdout",
          "output_type": "stream",
          "text": [
            "--2022-05-02 09:32:39--  https://raw.githubusercontent.com/jbrownlee/Datasets/master/shampoo.csv\n",
            "Resolving raw.githubusercontent.com (raw.githubusercontent.com)... 185.199.108.133, 185.199.109.133, 185.199.110.133, ...\n",
            "Connecting to raw.githubusercontent.com (raw.githubusercontent.com)|185.199.108.133|:443... connected.\n",
            "HTTP request sent, awaiting response... 200 OK\n",
            "Length: 519 [text/plain]\n",
            "Saving to: ‘shampoo.csv’\n",
            "\n",
            "shampoo.csv         100%[===================>]     519  --.-KB/s    in 0s      \n",
            "\n",
            "2022-05-02 09:32:40 (33.9 MB/s) - ‘shampoo.csv’ saved [519/519]\n",
            "\n"
          ]
        }
      ],
      "source": [
        "#!wget https://raw.githubusercontent.com/jbrownlee/Datasets/master/shampoo.csv"
      ]
    },
    {
      "cell_type": "code",
      "execution_count": 1,
      "metadata": {
        "colab": {
          "base_uri": "https://localhost:8080/"
        },
        "id": "lA_En8ZAUSKG",
        "outputId": "a525a3d6-26cb-4b8c-cd56-719036b256c4",
        "vscode": {
          "languageId": "python"
        }
      },
      "outputs": [
        {
          "name": "stdout",
          "output_type": "stream",
          "text": [
            "--2022-08-25 01:04:05--  https://raw.githubusercontent.com/jbrownlee/Datasets/master/airline-passengers.csv\n",
            "Resolving raw.githubusercontent.com (raw.githubusercontent.com)... 185.199.110.133, 185.199.109.133, 185.199.111.133, ...\n",
            "Connecting to raw.githubusercontent.com (raw.githubusercontent.com)|185.199.110.133|:443... connected.\n",
            "HTTP request sent, awaiting response... 200 OK\n",
            "Length: 2180 (2.1K) [text/plain]\n",
            "Saving to: ‘airline-passengers.csv’\n",
            "\n",
            "\rairline-passengers.   0%[                    ]       0  --.-KB/s               \rairline-passengers. 100%[===================>]   2.13K  --.-KB/s    in 0s      \n",
            "\n",
            "2022-08-25 01:04:05 (36.0 MB/s) - ‘airline-passengers.csv’ saved [2180/2180]\n",
            "\n"
          ]
        }
      ],
      "source": [
        "!wget https://raw.githubusercontent.com/jbrownlee/Datasets/master/airline-passengers.csv"
      ]
    },
    {
      "cell_type": "markdown",
      "metadata": {
        "id": "xSItPJipBaZ5"
      },
      "source": [
        "## Library"
      ]
    },
    {
      "cell_type": "code",
      "execution_count": 2,
      "metadata": {
        "id": "wb-Z7wNKUJko",
        "vscode": {
          "languageId": "python"
        }
      },
      "outputs": [],
      "source": [
        "import numpy as np\n",
        "import matplotlib.pyplot as plt\n",
        "import pandas as pd\n",
        "import torch\n",
        "import torch.nn as nn\n",
        "from torch.autograd import Variable\n",
        "from sklearn.preprocessing import MinMaxScaler"
      ]
    },
    {
      "cell_type": "markdown",
      "metadata": {
        "id": "e31mswiSBEEB"
      },
      "source": [
        "## Data Plot"
      ]
    },
    {
      "cell_type": "code",
      "execution_count": 3,
      "metadata": {
        "colab": {
          "base_uri": "https://localhost:8080/",
          "height": 265
        },
        "id": "ooQPXSYhA_ps",
        "outputId": "81f96e71-38e7-41d3-a6e7-9ab0a8121a79",
        "vscode": {
          "languageId": "python"
        }
      },
      "outputs": [
        {
          "data": {
            "image/png": "[encoded data removed]",
            "text/plain": [
              "<Figure size 432x288 with 1 Axes>"
            ]
          },
          "metadata": {
            "needs_background": "light"
          },
          "output_type": "display_data"
        }
      ],
      "source": [
        "training_set = pd.read_csv('airline-passengers.csv')\n",
        "#training_set = pd.read_csv('shampoo.csv')\n",
        "\n",
        "training_set = training_set.iloc[:,1:2].values\n",
        "\n",
        "#plt.plot(training_set, label = 'Shampoo Sales Data')\n",
        "plt.plot(training_set, label = 'Airline Passangers Data')\n",
        "plt.show()"
      ]
    },
    {
      "cell_type": "markdown",
      "metadata": {
        "id": "NabsV8O5BBd5"
      },
      "source": [
        "## Dataloading"
      ]
    },
    {
      "cell_type": "code",
      "execution_count": 4,
      "metadata": {
        "id": "vIWvJCpOVmwU",
        "vscode": {
          "languageId": "python"
        }
      },
      "outputs": [],
      "source": [
        "def sliding_windows(data, seq_length):\n",
        "    x = []\n",
        "    y = []\n",
        "\n",
        "    for i in range(len(data)-seq_length-1):\n",
        "        _x = data[i:(i+seq_length)]\n",
        "        _y = data[i+seq_length]\n",
        "        x.append(_x)\n",
        "        y.append(_y)\n",
        "\n",
        "    return np.array(x),np.array(y)\n",
        "\n",
        "sc = MinMaxScaler()\n",
        "training_data = sc.fit_transform(training_set)\n",
        "\n",
        "seq_length = 4\n",
        "x, y = sliding_windows(training_data, seq_length)\n",
        "\n",
        "train_size = int(len(y) * 0.67)\n",
        "test_size = len(y) - train_size\n",
        "\n",
        "dataX = Variable(torch.Tensor(np.array(x)))\n",
        "dataY = Variable(torch.Tensor(np.array(y)))\n",
        "\n",
        "trainX = Variable(torch.Tensor(np.array(x[0:train_size])))\n",
        "trainY = Variable(torch.Tensor(np.array(y[0:train_size])))\n",
        "\n",
        "testX = Variable(torch.Tensor(np.array(x[train_size:len(x)])))\n",
        "testY = Variable(torch.Tensor(np.array(y[train_size:len(y)])))"
      ]
    },
    {
      "cell_type": "markdown",
      "metadata": {
        "id": "--1LVbHOBSIy"
      },
      "source": [
        "## Model"
      ]
    },
    {
      "cell_type": "code",
      "execution_count": 5,
      "metadata": {
        "id": "_BcDEjcABRVz",
        "vscode": {
          "languageId": "python"
        }
      },
      "outputs": [],
      "source": [
        "class LSTM(nn.Module):\n",
        "    # Long Short Term Memory\n",
        "    def __init__(self, num_classes, input_size, hidden_size, num_layers):\n",
        "        super(LSTM, self).__init__()\n",
        "        \n",
        "        self.num_classes = num_classes\n",
        "        self.num_layers = num_layers\n",
        "        self.input_size = input_size\n",
        "        self.hidden_size = hidden_size\n",
        "        self.seq_length = seq_length\n",
        "        \n",
        "        self.lstm = nn.LSTM(input_size=input_size, hidden_size=hidden_size,\n",
        "                            num_layers=num_layers, batch_first=True)\n",
        "        \n",
        "        self.fc = nn.Linear(hidden_size, num_classes)\n",
        "\n",
        "    def forward(self, x):\n",
        "        h_0 = Variable(torch.zeros(\n",
        "            self.num_layers, x.size(0), self.hidden_size))\n",
        "        \n",
        "        c_0 = Variable(torch.zeros(\n",
        "            self.num_layers, x.size(0), self.hidden_size))\n",
        "        \n",
        "        # Propagate input through LSTM\n",
        "        ula, (h_out, _) = self.lstm(x, (h_0, c_0))\n",
        "        \n",
        "        h_out = h_out.view(-1, self.hidden_size)\n",
        "        \n",
        "        out = self.fc(h_out)\n",
        "        \n",
        "        return out"
      ]
    },
    {
      "cell_type": "code",
      "execution_count": 6,
      "metadata": {
        "id": "r4rXBrT2bNcm",
        "vscode": {
          "languageId": "python"
        }
      },
      "outputs": [],
      "source": [
        "class RNN(nn.Module):\n",
        "    # Vanilla RNN\n",
        "    def __init__(self, num_classes, input_size, hidden_size, num_layers):\n",
        "        super(RNN, self).__init__()\n",
        "        \n",
        "        self.num_classes = num_classes\n",
        "        self.num_layers = num_layers\n",
        "        self.input_size = input_size\n",
        "        self.hidden_size = hidden_size\n",
        "        self.seq_length = seq_length\n",
        "        \n",
        "        self.rnn = nn.RNN(input_size=input_size, hidden_size=hidden_size,\n",
        "                          num_layers=num_layers, batch_first=True)\n",
        "        \n",
        "        self.fc = nn.Linear(hidden_size, num_classes)\n",
        "\n",
        "    def forward(self, x):\n",
        "\n",
        "        batch_size = x.size(0)\n",
        "\n",
        "        # initialize hidden state for first input\n",
        "        hidden = torch.zeros(self.num_layers, batch_size, self.hidden_size)\n",
        "\n",
        "        # pass model input and hidden state\n",
        "        h_out, hidden = self.rnn(x, hidden.detach())\n",
        "        \n",
        "        h_out = h_out[:,-1,:]\n",
        "        #h_out = h_out.contiguous().view(-1, self.hidden_size)\n",
        "        \n",
        "        out = self.fc(h_out)\n",
        "        \n",
        "        return out"
      ]
    },
    {
      "cell_type": "code",
      "execution_count": 7,
      "metadata": {
        "id": "3oqV3glObj9a",
        "vscode": {
          "languageId": "python"
        }
      },
      "outputs": [],
      "source": [
        "class CNN(nn.Module):\n",
        "    \"\"\"Convolutional Neural Networks\"\"\"\n",
        "    def __init__(self, input_size, hidden_dim, output_size):\n",
        "        super(CNN, self).__init__()\n",
        "\n",
        "        self.main = nn.Sequential(\n",
        "            nn.Conv1d(in_channels=input_size, out_channels=hidden_dim, kernel_size=1),\n",
        "            nn.ReLU(),\n",
        "\n",
        "            nn.Flatten(),\n",
        "\n",
        "            nn.Linear(hidden_dim, 10),\n",
        "            nn.Linear(10, output_size)\n",
        "        )\n",
        "\n",
        "    def forward(self, x):\n",
        "        out = self.main(x)\n",
        "        return out"
      ]
    },
    {
      "cell_type": "markdown",
      "metadata": {
        "id": "tdzFI5GJBUF5"
      },
      "source": [
        "## Training"
      ]
    },
    {
      "cell_type": "code",
      "execution_count": 8,
      "metadata": {
        "colab": {
          "base_uri": "https://localhost:8080/"
        },
        "id": "a2vvHeFgVtCp",
        "outputId": "eb5d8d15-a956-46a5-870d-e63ef75a62ba",
        "vscode": {
          "languageId": "python"
        }
      },
      "outputs": [
        {
          "name": "stdout",
          "output_type": "stream",
          "text": [
            "Epoch: 0, loss: 0.34297\n",
            "Epoch: 100, loss: 0.00969\n",
            "Epoch: 200, loss: 0.00346\n",
            "Epoch: 300, loss: 0.00277\n",
            "Epoch: 400, loss: 0.00222\n",
            "Epoch: 500, loss: 0.00187\n",
            "Epoch: 600, loss: 0.00168\n",
            "Epoch: 700, loss: 0.00166\n",
            "Epoch: 800, loss: 0.00165\n",
            "Epoch: 900, loss: 0.00165\n",
            "Epoch: 1000, loss: 0.00164\n",
            "Epoch: 1100, loss: 0.00163\n",
            "Epoch: 1200, loss: 0.00162\n",
            "Epoch: 1300, loss: 0.00161\n",
            "Epoch: 1400, loss: 0.00160\n",
            "Epoch: 1500, loss: 0.00159\n",
            "Epoch: 1600, loss: 0.00158\n",
            "Epoch: 1700, loss: 0.00158\n",
            "Epoch: 1800, loss: 0.00157\n",
            "Epoch: 1900, loss: 0.00157\n"
          ]
        }
      ],
      "source": [
        "num_epochs = 2000\n",
        "learning_rate = 0.01\n",
        "\n",
        "input_size = 1\n",
        "hidden_size = 2\n",
        "num_layers = 1\n",
        "\n",
        "num_classes = 1\n",
        "\n",
        "lstm = LSTM(num_classes, input_size, hidden_size, num_layers)\n",
        "\n",
        "criterion = torch.nn.MSELoss()    # mean-squared error for regression\n",
        "optimizer = torch.optim.Adam(lstm.parameters(), lr=learning_rate)\n",
        "#optimizer = torch.optim.SGD(lstm.parameters(), lr=learning_rate)\n",
        "\n",
        "# Train the model\n",
        "for epoch in range(num_epochs):\n",
        "    outputs = lstm(trainX)\n",
        "    optimizer.zero_grad()\n",
        "    \n",
        "    # obtain the loss function\n",
        "    loss = criterion(outputs, trainY)\n",
        "    \n",
        "    loss.backward()\n",
        "    \n",
        "    optimizer.step()\n",
        "    if epoch % 100 == 0:\n",
        "      print(\"Epoch: %d, loss: %1.5f\" % (epoch, loss.item()))"
      ]
    },
    {
      "cell_type": "markdown",
      "metadata": {
        "id": "35ndYIwIKteS"
      },
      "source": [
        "## Testing for Airplane Passengers Dataset"
      ]
    },
    {
      "cell_type": "code",
      "execution_count": 9,
      "metadata": {
        "colab": {
          "base_uri": "https://localhost:8080/",
          "height": 294
        },
        "id": "CKEzO1jzKydL",
        "outputId": "fa30a608-44db-4e66-81f5-a4b606a05922",
        "vscode": {
          "languageId": "python"
        }
      },
      "outputs": [
        {
          "data": {
            "image/png": "[encoded data removed]",
            "text/plain": [
              "<Figure size 432x288 with 1 Axes>"
            ]
          },
          "metadata": {
            "needs_background": "light"
          },
          "output_type": "display_data"
        }
      ],
      "source": [
        "lstm.eval()\n",
        "train_predict = lstm(dataX)\n",
        "\n",
        "data_predict = train_predict.data.numpy()\n",
        "dataY_plot = dataY.data.numpy()\n",
        "\n",
        "data_predict = sc.inverse_transform(data_predict)\n",
        "dataY_plot = sc.inverse_transform(dataY_plot)\n",
        "\n",
        "plt.axvline(x=train_size, c='r', linestyle='--')\n",
        "\n",
        "plt.plot(dataY_plot)\n",
        "plt.plot(data_predict)\n",
        "plt.suptitle('Time-Series Prediction')\n",
        "plt.show()"
      ]
    },
    {
      "cell_type": "markdown",
      "metadata": {
        "id": "Yb4decNiYkgS"
      },
      "source": [
        "## Exercise\n",
        "Vanilla RNN, 1D CNN models로 train code와 test code를 작성해보세요."
      ]
    },
    {
      "cell_type": "code",
      "execution_count": null,
      "metadata": {
        "id": "uwabmpJhYp69",
        "vscode": {
          "languageId": "python"
        }
      },
      "outputs": [],
      "source": []
    },
    {
      "cell_type": "markdown",
      "metadata": {},
      "source": []
    }
  ],
  "metadata": {
    "colab": {
      "collapsed_sections": [],
      "include_colab_link": true,
      "name": "12_2_time_series_prediction_with_deep_learning_models의 사본",
      "provenance": []
    },
    "gpuClass": "standard",
    "kernelspec": {
      "display_name": "Python 3",
      "name": "python3"
    }
  },
  "nbformat": 4,
  "nbformat_minor": 0
}
